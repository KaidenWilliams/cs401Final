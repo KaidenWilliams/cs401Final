{
 "cells": [
  {
   "cell_type": "code",
   "execution_count": 105,
   "id": "8b410344-95a5-4025-9a9d-296c4235effe",
   "metadata": {},
   "outputs": [],
   "source": [
    "# IMPORTS\n",
    "import sagemaker\n",
    "from sagemaker.pytorch import PyTorch\n",
    "from sagemaker.model import ModelPackage\n",
    "from sagemaker import get_execution_role, Session, image_uris\n",
    "from sagemaker.workflow.functions import Join\n",
    "from sagemaker.workflow.pipeline import Pipeline\n",
    "from sagemaker.workflow.parameters import ParameterString, ParameterInteger, ParameterFloat\n",
    "from sagemaker.workflow.steps import ProcessingStep, TrainingStep\n",
    "from sagemaker.workflow.step_collections import RegisterModel\n",
    "from sagemaker.workflow.model_step import ModelStep\n",
    "from sagemaker.processing import ScriptProcessor, ProcessingInput, ProcessingOutput\n",
    "from sagemaker.pytorch.processing import PyTorchProcessor\n",
    "from sagemaker.model_monitor import DefaultModelMonitor\n",
    "from sagemaker.workflow.check_job_config import CheckJobConfig\n",
    "from sagemaker.workflow.monitor_batch_transform_step import MonitorBatchTransformStep\n",
    "\n",
    "import numpy as np\n",
    "import pandas as pd\n",
    "import matplotlib.pyplot as plt\n",
    "import timm\n",
    "import os\n",
    "import boto3\n",
    "from io import BytesIO\n",
    "from io import StringIO\n",
    "import warnings\n",
    "\n",
    "import torch\n",
    "import torch.nn as nn\n",
    "import torch.optim as optim\n",
    "from torch.utils.data import Dataset, DataLoader\n",
    "\n",
    "from sklearn.model_selection import train_test_split\n",
    "import torchvision.transforms as transforms\n",
    "warnings.filterwarnings('ignore')"
   ]
  },
  {
   "cell_type": "code",
   "execution_count": 106,
   "id": "de5f0f52-2f7c-4430-acd1-525c103dbba4",
   "metadata": {},
   "outputs": [],
   "source": [
    "# PIPELINE INFORMATION\n",
    "\n",
    "session = sagemaker.Session()\n",
    "role = get_execution_role()\n",
    "\n",
    "sagemaker_role = sagemaker.get_execution_role()\n",
    "\n",
    "pipeline_name = \"cs401FinalBirdclefPipeline\""
   ]
  },
  {
   "cell_type": "code",
   "execution_count": 107,
   "id": "b27b3eb1-b5bb-4329-a2e9-ca193d2fd5e4",
   "metadata": {},
   "outputs": [],
   "source": [
    "# PRE-PROCESSING STEP\n",
    "spectro_processor = ScriptProcessor(\n",
    "    image_uri=image_uris.retrieve(\"pytorch\",\"us-east-1\",\"2.0.0\",\"py310\",\n",
    "                                  instance_type=\"ml.m5.large\", image_scope=\"inference\"),\n",
    "    command=[\"python3\"],\n",
    "    role=role,\n",
    "    instance_type=\"ml.m5.large\",\n",
    "    instance_count=1,\n",
    "    base_job_name=\"audio-processing\",\n",
    "    sagemaker_session=session,\n",
    ")\n",
    "\n",
    "step_spectro = ProcessingStep(\n",
    "    name=\"CreateSpectrograms\",\n",
    "    processor=spectro_processor,\n",
    "    code=\"audio_pipeline.py\",\n",
    "    inputs=[\n",
    "        ProcessingInput(\n",
    "            source=\"s3://cs401finalpipelineprocessingdata/data/clean_audio/\",\n",
    "            destination=\"/opt/ml/processing/input/audio\",\n",
    "        )\n",
    "    ],\n",
    "    outputs=[\n",
    "        ProcessingOutput(\n",
    "            output_name=\"Spectrograms\",\n",
    "            source=\"/opt/ml/processing/output/spectrograms\",\n",
    "        )\n",
    "    ],\n",
    ")"
   ]
  },
  {
   "cell_type": "code",
   "execution_count": 108,
   "id": "7e8a31dc-4073-407e-b885-6fda12b177cb",
   "metadata": {},
   "outputs": [],
   "source": [
    "# MAKE MANIFEST STEP\n",
    "manifest_processor = ScriptProcessor(\n",
    "    image_uri=image_uris.retrieve(\"pytorch\",\"us-east-1\",\"2.0.0\",\"py310\",\n",
    "                                  instance_type=\"ml.m5.large\", image_scope=\"inference\"),\n",
    "    command=[\"python3\"],\n",
    "    role=role,\n",
    "    instance_type=\"ml.m5.large\",\n",
    "    instance_count=1,\n",
    "    base_job_name=\"build-manifests\",\n",
    "    sagemaker_session=session,\n",
    ")\n",
    "\n",
    "step_manifest = ProcessingStep(\n",
    "    name=\"BuildManifests\",\n",
    "    processor=manifest_processor,\n",
    "    code=\"manifest_build.py\",\n",
    "    inputs=[\n",
    "        ProcessingInput(                                   # ← specs from step 1\n",
    "            source=step_spectro.properties.ProcessingOutputConfig\n",
    "                              .Outputs[\"Spectrograms\"]\n",
    "                              .S3Output.S3Uri,\n",
    "            destination=\"/opt/ml/processing/input/specs\",\n",
    "            input_name=\"SPECS\",\n",
    "        ),\n",
    "        ProcessingInput(                                   # train.csv\n",
    "            source=\"s3://birdclef-2025/train.csv\",\n",
    "            destination=\"/opt/ml/processing/input/train\",\n",
    "            input_name=\"TRAINCSV\",\n",
    "        ),\n",
    "    ],\n",
    "    outputs=[\n",
    "        ProcessingOutput(\n",
    "            output_name=\"TrainManifest\",\n",
    "            source=\"/opt/ml/processing/output/train_manifest.csv\"\n",
    "        ),\n",
    "        ProcessingOutput(\n",
    "            output_name=\"ValManifest\",\n",
    "            source=\"/opt/ml/processing/output/val_manifest.csv\"\n",
    "        ),\n",
    "    ],\n",
    ")"
   ]
  },
  {
   "cell_type": "code",
   "execution_count": 109,
   "id": "a06a3a7f-4723-43f0-851f-b153696c2765",
   "metadata": {},
   "outputs": [],
   "source": [
    "# TRAIN STEP\n",
    "pytorch_estimator = PyTorch(\n",
    "    entry_point=\"train_script_2.0.py\",\n",
    "    source_dir=\".\",\n",
    "    role=role,\n",
    "    framework_version=\"2.0.0\",\n",
    "    py_version=\"py310\",\n",
    "    instance_type=\"ml.m5.large\",\n",
    "    instance_count=1,\n",
    "    hyperparameters={\n",
    "        \"epochs\":           1,\n",
    "        \"batch-size\":       32,\n",
    "        \"learning-rate\":    0.001,\n",
    "        \"accumulation-steps\": 4,\n",
    "    },\n",
    ")\n",
    "\n",
    "step_train = TrainingStep(\n",
    "    name=\"TrainSpectrogramModel\",\n",
    "    estimator=pytorch_estimator,\n",
    "    inputs={\n",
    "        \"audio-specs\": step_spectro.properties.ProcessingOutputConfig\n",
    "                                        .Outputs[\"Spectrograms\"]\n",
    "                                        .S3Output\n",
    "                                        .S3Uri,\n",
    "        \"manifests\":   step_manifest.properties.ProcessingOutputConfig\n",
    "                                        .Outputs[\"TrainManifest\"]\n",
    "                                        .S3Output\n",
    "                                        .S3Uri,\n",
    "        \"validation\":  step_manifest.properties.ProcessingOutputConfig\n",
    "                                        .Outputs[\"ValManifest\"]\n",
    "                                        .S3Output\n",
    "                                        .S3Uri,\n",
    "    },\n",
    ")"
   ]
  },
  {
   "cell_type": "code",
   "execution_count": 110,
   "id": "6d31e5d1-a508-4249-828b-439727fe588b",
   "metadata": {},
   "outputs": [],
   "source": [
    "# # TRAIN STEP\n",
    "# pytorch_processor = PyTorchProcessor(\n",
    "#     framework_version=\"1.13.1\",\n",
    "#     role=role,\n",
    "#     py_version=\"py39\",\n",
    "#     instance_type=\"ml.m5.large\",\n",
    "#     instance_count=1,\n",
    "#     base_job_name=\"birdclef-training-job\",\n",
    "#     volume_size_in_gb=100,\n",
    "#     sagemaker_session=session,\n",
    "#     env={\"PYTHONUNBUFFERED\": \"1\"}\n",
    "# )\n",
    "\n",
    "\n",
    "# s3_bucket = \"cs401finalpipelineprocessingdata\"\n",
    "# train_manifest_uri = f\"s3://{s3_bucket}/manifests/train_manifest.csv\"\n",
    "# val_manifest_uri = f\"s3://{s3_bucket}/manifests/val_manifest.csv\"\n",
    "# output_uri = f\"s3://{s3_bucket}/model-output/\"\n",
    "\n",
    "# pytorch_training_step = ProcessingStep(\n",
    "#     name=\"BirdclefTraining\",\n",
    "#     processor=pytorch_processor,\n",
    "#     code=\"train_script_2.0.py\",\n",
    "#     source_dir=\".\",\n",
    "#     inputs=[\n",
    "#         ProcessingInput(\n",
    "#             source=f\"s3://{s3_bucket}/data/audio_specs\",\n",
    "#             destination=\"/opt/ml/processing/data/audio_specs\",\n",
    "#             input_name=\"spectrograms\"\n",
    "#         ),\n",
    "#         ProcessingInput(\n",
    "#             source=train_manifest_uri,\n",
    "#             destination=\"/opt/ml/processing/input/train\",\n",
    "#             input_name=\"train-data\"\n",
    "#         ),\n",
    "#         ProcessingInput(\n",
    "#             source=val_manifest_uri,\n",
    "#             destination=\"/opt/ml/processing/input/validation\",\n",
    "#             input_name=\"val-data\"\n",
    "#         )\n",
    "#     ],\n",
    "#     outputs=[\n",
    "#         ProcessingOutput(\n",
    "#             output_name=\"model-output\",\n",
    "#             source=\"/opt/ml/processing/output\",\n",
    "#             destination=output_uri\n",
    "#         )\n",
    "#     ],\n",
    "#     arguments=[\n",
    "#         \"--epochs\", \"1\",\n",
    "#         \"--batch-size\", \"32\",\n",
    "#         \"--learning-rate\", \"0.001\",\n",
    "#         \"--accumulation-steps\", \"4\"\n",
    "#     ]\n",
    "# )"
   ]
  },
  {
   "cell_type": "code",
   "execution_count": 111,
   "id": "98673ecf-4a79-4d04-8061-58398868757d",
   "metadata": {},
   "outputs": [],
   "source": [
    "# PACKAGE STEP\n",
    "package_processor = ScriptProcessor(\n",
    "    image_uri=image_uris.retrieve(\n",
    "        framework=\"pytorch\",\n",
    "        region=\"us-east-1\",\n",
    "        version=\"2.0.0\",\n",
    "        py_version=\"py310\",\n",
    "        instance_type=\"ml.m5.large\",\n",
    "        image_scope=\"inference\",\n",
    "    ),\n",
    "    command=[\"python3\"],\n",
    "    role=role,\n",
    "    instance_type=\"ml.m5.large\",\n",
    "    instance_count=1,\n",
    "    base_job_name=\"package-model\",\n",
    "    sagemaker_session=session,\n",
    ")\n",
    "\n",
    "step_package = ProcessingStep(\n",
    "    name=\"PackageModel\",\n",
    "    processor=package_processor,\n",
    "    code=\"package_model.py\",\n",
    "    inputs=[\n",
    "        ProcessingInput(\n",
    "            source=step_train.properties.ModelArtifacts.S3ModelArtifacts,\n",
    "            destination=\"/opt/ml/processing/input/model\",\n",
    "            input_name=\"MODEL\",\n",
    "        )\n",
    "    ],\n",
    "    outputs=[\n",
    "        ProcessingOutput(\n",
    "            output_name=\"RepackedModel\",\n",
    "            source=\"/opt/ml/processing/output\",\n",
    "        )\n",
    "    ],\n",
    ")"
   ]
  },
  {
   "cell_type": "code",
   "execution_count": 112,
   "id": "a16ac1fe-0a5b-4ef9-b995-63436acb60ea",
   "metadata": {},
   "outputs": [],
   "source": [
    "# # REGISTER MODEL STEP\n",
    "# from sagemaker.pytorch import PyTorchModel\n",
    "# model_package_group = \"BirdclefSpectrogramGroup\"\n",
    "\n",
    "# model_data = Join(\n",
    "#     on=\"/\",\n",
    "#     values=[\n",
    "#         step_package.properties.ProcessingOutputConfig.Outputs[\"RepackedModel\"].S3Output.S3Uri,\n",
    "#         \"model.tar.gz\"\n",
    "#     ],\n",
    "# )\n",
    "\n",
    "# # Create a model object that will be registered\n",
    "# pytorch_model = PyTorchModel(\n",
    "#     entry_point=\"inference.py\",\n",
    "#     model_data=model_data,\n",
    "#     role=role,\n",
    "#     framework_version=\"2.6.0\",\n",
    "#     py_version=\"py312\",\n",
    "#     sagemaker_session=pipeline_session,\n",
    "#     code_location=f\"s3://{session.default_bucket()}/model/code\",  # disables repack\n",
    "# )\n",
    "\n",
    "\n",
    "# # Register model\n",
    "# register_step = RegisterModel(\n",
    "#     name=\"RegisterSpectrogramModel\",\n",
    "#     model=pytorch_model,\n",
    "#     model_package_group_name=model_package_group,\n",
    "#     content_types=[\"application/x-npy\"],\n",
    "#     response_types=[\"application/json\"],\n",
    "#     inference_instances=[\"ml.m5.large\"],\n",
    "#     transform_instances=[\"ml.m5.large\"],\n",
    "#     approval_status=\"Approved\",\n",
    "# )"
   ]
  },
  {
   "cell_type": "code",
   "execution_count": 113,
   "id": "75be53a4-001d-49c5-a9b5-90ecb7e9bddc",
   "metadata": {},
   "outputs": [
    {
     "data": {
      "text/html": [
       "<pre style=\"white-space:pre;overflow-x:auto;line-height:normal;font-family:Menlo,'DejaVu Sans Mono',consolas,'Courier New',monospace\"><span style=\"color: #7fbfbf; text-decoration-color: #7fbfbf\">[04/22/25 20:41:36] </span><span style=\"color: #d7af00; text-decoration-color: #d7af00; font-weight: bold\">WARNING </span> Popping out <span style=\"color: #008700; text-decoration-color: #008700\">'ProcessingJobName'</span> from the pipeline definition by       <a href=\"file:///opt/conda/lib/python3.12/site-packages/sagemaker/workflow/utilities.py\" target=\"_blank\"><span style=\"color: #7f7f7f; text-decoration-color: #7f7f7f\">utilities.py</span></a><span style=\"color: #7f7f7f; text-decoration-color: #7f7f7f\">:</span><a href=\"file:///opt/conda/lib/python3.12/site-packages/sagemaker/workflow/utilities.py#465\" target=\"_blank\"><span style=\"color: #7f7f7f; text-decoration-color: #7f7f7f\">465</span></a>\n",
       "<span style=\"color: #7fbfbf; text-decoration-color: #7fbfbf\">                    </span>         default since it will be overridden at pipeline execution time.       <span style=\"color: #7f7f7f; text-decoration-color: #7f7f7f\">                </span>\n",
       "<span style=\"color: #7fbfbf; text-decoration-color: #7fbfbf\">                    </span>         Please utilize the PipelineDefinitionConfig to persist this field in  <span style=\"color: #7f7f7f; text-decoration-color: #7f7f7f\">                </span>\n",
       "<span style=\"color: #7fbfbf; text-decoration-color: #7fbfbf\">                    </span>         the pipeline definition if desired.                                   <span style=\"color: #7f7f7f; text-decoration-color: #7f7f7f\">                </span>\n",
       "</pre>\n"
      ],
      "text/plain": [
       "\u001b[2;36m[04/22/25 20:41:36]\u001b[0m\u001b[2;36m \u001b[0m\u001b[1;38;2;215;175;0mWARNING \u001b[0m Popping out \u001b[38;2;0;135;0m'ProcessingJobName'\u001b[0m from the pipeline definition by       \u001b]8;id=172312;file:///opt/conda/lib/python3.12/site-packages/sagemaker/workflow/utilities.py\u001b\\\u001b[2mutilities.py\u001b[0m\u001b]8;;\u001b\\\u001b[2m:\u001b[0m\u001b]8;id=359124;file:///opt/conda/lib/python3.12/site-packages/sagemaker/workflow/utilities.py#465\u001b\\\u001b[2m465\u001b[0m\u001b]8;;\u001b\\\n",
       "\u001b[2;36m                    \u001b[0m         default since it will be overridden at pipeline execution time.       \u001b[2m                \u001b[0m\n",
       "\u001b[2;36m                    \u001b[0m         Please utilize the PipelineDefinitionConfig to persist this field in  \u001b[2m                \u001b[0m\n",
       "\u001b[2;36m                    \u001b[0m         the pipeline definition if desired.                                   \u001b[2m                \u001b[0m\n"
      ]
     },
     "metadata": {},
     "output_type": "display_data"
    },
    {
     "data": {
      "text/html": [
       "<pre style=\"white-space:pre;overflow-x:auto;line-height:normal;font-family:Menlo,'DejaVu Sans Mono',consolas,'Courier New',monospace\"><span style=\"color: #7fbfbf; text-decoration-color: #7fbfbf\">                    </span><span style=\"color: #d7af00; text-decoration-color: #d7af00; font-weight: bold\">WARNING </span> Popping out <span style=\"color: #008700; text-decoration-color: #008700\">'ProcessingJobName'</span> from the pipeline definition by       <a href=\"file:///opt/conda/lib/python3.12/site-packages/sagemaker/workflow/utilities.py\" target=\"_blank\"><span style=\"color: #7f7f7f; text-decoration-color: #7f7f7f\">utilities.py</span></a><span style=\"color: #7f7f7f; text-decoration-color: #7f7f7f\">:</span><a href=\"file:///opt/conda/lib/python3.12/site-packages/sagemaker/workflow/utilities.py#465\" target=\"_blank\"><span style=\"color: #7f7f7f; text-decoration-color: #7f7f7f\">465</span></a>\n",
       "<span style=\"color: #7fbfbf; text-decoration-color: #7fbfbf\">                    </span>         default since it will be overridden at pipeline execution time.       <span style=\"color: #7f7f7f; text-decoration-color: #7f7f7f\">                </span>\n",
       "<span style=\"color: #7fbfbf; text-decoration-color: #7fbfbf\">                    </span>         Please utilize the PipelineDefinitionConfig to persist this field in  <span style=\"color: #7f7f7f; text-decoration-color: #7f7f7f\">                </span>\n",
       "<span style=\"color: #7fbfbf; text-decoration-color: #7fbfbf\">                    </span>         the pipeline definition if desired.                                   <span style=\"color: #7f7f7f; text-decoration-color: #7f7f7f\">                </span>\n",
       "</pre>\n"
      ],
      "text/plain": [
       "\u001b[2;36m                   \u001b[0m\u001b[2;36m \u001b[0m\u001b[1;38;2;215;175;0mWARNING \u001b[0m Popping out \u001b[38;2;0;135;0m'ProcessingJobName'\u001b[0m from the pipeline definition by       \u001b]8;id=93275;file:///opt/conda/lib/python3.12/site-packages/sagemaker/workflow/utilities.py\u001b\\\u001b[2mutilities.py\u001b[0m\u001b]8;;\u001b\\\u001b[2m:\u001b[0m\u001b]8;id=679022;file:///opt/conda/lib/python3.12/site-packages/sagemaker/workflow/utilities.py#465\u001b\\\u001b[2m465\u001b[0m\u001b]8;;\u001b\\\n",
       "\u001b[2;36m                    \u001b[0m         default since it will be overridden at pipeline execution time.       \u001b[2m                \u001b[0m\n",
       "\u001b[2;36m                    \u001b[0m         Please utilize the PipelineDefinitionConfig to persist this field in  \u001b[2m                \u001b[0m\n",
       "\u001b[2;36m                    \u001b[0m         the pipeline definition if desired.                                   \u001b[2m                \u001b[0m\n"
      ]
     },
     "metadata": {},
     "output_type": "display_data"
    },
    {
     "data": {
      "text/html": [
       "<pre style=\"white-space:pre;overflow-x:auto;line-height:normal;font-family:Menlo,'DejaVu Sans Mono',consolas,'Courier New',monospace\"><span style=\"color: #7fbfbf; text-decoration-color: #7fbfbf\">[04/22/25 20:42:09] </span><span style=\"color: #0069ff; text-decoration-color: #0069ff; font-weight: bold\">INFO    </span> image_uri is not presented, retrieving image_uri based on            <a href=\"file:///opt/conda/lib/python3.12/site-packages/sagemaker/image_uris.py\" target=\"_blank\"><span style=\"color: #7f7f7f; text-decoration-color: #7f7f7f\">image_uris.py</span></a><span style=\"color: #7f7f7f; text-decoration-color: #7f7f7f\">:</span><a href=\"file:///opt/conda/lib/python3.12/site-packages/sagemaker/image_uris.py#681\" target=\"_blank\"><span style=\"color: #7f7f7f; text-decoration-color: #7f7f7f\">681</span></a>\n",
       "<span style=\"color: #7fbfbf; text-decoration-color: #7fbfbf\">                    </span>         instance_type, framework etc.                                        <span style=\"color: #7f7f7f; text-decoration-color: #7f7f7f\">                 </span>\n",
       "</pre>\n"
      ],
      "text/plain": [
       "\u001b[2;36m[04/22/25 20:42:09]\u001b[0m\u001b[2;36m \u001b[0m\u001b[1;38;2;0;105;255mINFO    \u001b[0m image_uri is not presented, retrieving image_uri based on            \u001b]8;id=390564;file:///opt/conda/lib/python3.12/site-packages/sagemaker/image_uris.py\u001b\\\u001b[2mimage_uris.py\u001b[0m\u001b]8;;\u001b\\\u001b[2m:\u001b[0m\u001b]8;id=973482;file:///opt/conda/lib/python3.12/site-packages/sagemaker/image_uris.py#681\u001b\\\u001b[2m681\u001b[0m\u001b]8;;\u001b\\\n",
       "\u001b[2;36m                    \u001b[0m         instance_type, framework etc.                                        \u001b[2m                 \u001b[0m\n"
      ]
     },
     "metadata": {},
     "output_type": "display_data"
    },
    {
     "data": {
      "text/html": [
       "<pre style=\"white-space:pre;overflow-x:auto;line-height:normal;font-family:Menlo,'DejaVu Sans Mono',consolas,'Courier New',monospace\"><span style=\"color: #7fbfbf; text-decoration-color: #7fbfbf\">                    </span><span style=\"color: #d7af00; text-decoration-color: #d7af00; font-weight: bold\">WARNING </span> Popping out <span style=\"color: #008700; text-decoration-color: #008700\">'TrainingJobName'</span> from the pipeline definition by default <a href=\"file:///opt/conda/lib/python3.12/site-packages/sagemaker/workflow/utilities.py\" target=\"_blank\"><span style=\"color: #7f7f7f; text-decoration-color: #7f7f7f\">utilities.py</span></a><span style=\"color: #7f7f7f; text-decoration-color: #7f7f7f\">:</span><a href=\"file:///opt/conda/lib/python3.12/site-packages/sagemaker/workflow/utilities.py#465\" target=\"_blank\"><span style=\"color: #7f7f7f; text-decoration-color: #7f7f7f\">465</span></a>\n",
       "<span style=\"color: #7fbfbf; text-decoration-color: #7fbfbf\">                    </span>         since it will be overridden at pipeline execution time. Please        <span style=\"color: #7f7f7f; text-decoration-color: #7f7f7f\">                </span>\n",
       "<span style=\"color: #7fbfbf; text-decoration-color: #7fbfbf\">                    </span>         utilize the PipelineDefinitionConfig to persist this field in the     <span style=\"color: #7f7f7f; text-decoration-color: #7f7f7f\">                </span>\n",
       "<span style=\"color: #7fbfbf; text-decoration-color: #7fbfbf\">                    </span>         pipeline definition if desired.                                       <span style=\"color: #7f7f7f; text-decoration-color: #7f7f7f\">                </span>\n",
       "</pre>\n"
      ],
      "text/plain": [
       "\u001b[2;36m                   \u001b[0m\u001b[2;36m \u001b[0m\u001b[1;38;2;215;175;0mWARNING \u001b[0m Popping out \u001b[38;2;0;135;0m'TrainingJobName'\u001b[0m from the pipeline definition by default \u001b]8;id=592048;file:///opt/conda/lib/python3.12/site-packages/sagemaker/workflow/utilities.py\u001b\\\u001b[2mutilities.py\u001b[0m\u001b]8;;\u001b\\\u001b[2m:\u001b[0m\u001b]8;id=69579;file:///opt/conda/lib/python3.12/site-packages/sagemaker/workflow/utilities.py#465\u001b\\\u001b[2m465\u001b[0m\u001b]8;;\u001b\\\n",
       "\u001b[2;36m                    \u001b[0m         since it will be overridden at pipeline execution time. Please        \u001b[2m                \u001b[0m\n",
       "\u001b[2;36m                    \u001b[0m         utilize the PipelineDefinitionConfig to persist this field in the     \u001b[2m                \u001b[0m\n",
       "\u001b[2;36m                    \u001b[0m         pipeline definition if desired.                                       \u001b[2m                \u001b[0m\n"
      ]
     },
     "metadata": {},
     "output_type": "display_data"
    },
    {
     "data": {
      "text/html": [
       "<pre style=\"white-space:pre;overflow-x:auto;line-height:normal;font-family:Menlo,'DejaVu Sans Mono',consolas,'Courier New',monospace\"><span style=\"color: #7fbfbf; text-decoration-color: #7fbfbf\">                    </span><span style=\"color: #d7af00; text-decoration-color: #d7af00; font-weight: bold\">WARNING </span> Popping out <span style=\"color: #008700; text-decoration-color: #008700\">'ProcessingJobName'</span> from the pipeline definition by       <a href=\"file:///opt/conda/lib/python3.12/site-packages/sagemaker/workflow/utilities.py\" target=\"_blank\"><span style=\"color: #7f7f7f; text-decoration-color: #7f7f7f\">utilities.py</span></a><span style=\"color: #7f7f7f; text-decoration-color: #7f7f7f\">:</span><a href=\"file:///opt/conda/lib/python3.12/site-packages/sagemaker/workflow/utilities.py#465\" target=\"_blank\"><span style=\"color: #7f7f7f; text-decoration-color: #7f7f7f\">465</span></a>\n",
       "<span style=\"color: #7fbfbf; text-decoration-color: #7fbfbf\">                    </span>         default since it will be overridden at pipeline execution time.       <span style=\"color: #7f7f7f; text-decoration-color: #7f7f7f\">                </span>\n",
       "<span style=\"color: #7fbfbf; text-decoration-color: #7fbfbf\">                    </span>         Please utilize the PipelineDefinitionConfig to persist this field in  <span style=\"color: #7f7f7f; text-decoration-color: #7f7f7f\">                </span>\n",
       "<span style=\"color: #7fbfbf; text-decoration-color: #7fbfbf\">                    </span>         the pipeline definition if desired.                                   <span style=\"color: #7f7f7f; text-decoration-color: #7f7f7f\">                </span>\n",
       "</pre>\n"
      ],
      "text/plain": [
       "\u001b[2;36m                   \u001b[0m\u001b[2;36m \u001b[0m\u001b[1;38;2;215;175;0mWARNING \u001b[0m Popping out \u001b[38;2;0;135;0m'ProcessingJobName'\u001b[0m from the pipeline definition by       \u001b]8;id=505010;file:///opt/conda/lib/python3.12/site-packages/sagemaker/workflow/utilities.py\u001b\\\u001b[2mutilities.py\u001b[0m\u001b]8;;\u001b\\\u001b[2m:\u001b[0m\u001b]8;id=105112;file:///opt/conda/lib/python3.12/site-packages/sagemaker/workflow/utilities.py#465\u001b\\\u001b[2m465\u001b[0m\u001b]8;;\u001b\\\n",
       "\u001b[2;36m                    \u001b[0m         default since it will be overridden at pipeline execution time.       \u001b[2m                \u001b[0m\n",
       "\u001b[2;36m                    \u001b[0m         Please utilize the PipelineDefinitionConfig to persist this field in  \u001b[2m                \u001b[0m\n",
       "\u001b[2;36m                    \u001b[0m         the pipeline definition if desired.                                   \u001b[2m                \u001b[0m\n"
      ]
     },
     "metadata": {},
     "output_type": "display_data"
    },
    {
     "data": {
      "text/plain": [
       "{'PipelineArn': 'arn:aws:sagemaker:us-east-1:084375543672:pipeline/cs401FinalBirdclefPipeline',\n",
       " 'ResponseMetadata': {'RequestId': '5ea744d4-50ba-463e-8148-044e753aea4b',\n",
       "  'HTTPStatusCode': 200,\n",
       "  'HTTPHeaders': {'x-amzn-requestid': '5ea744d4-50ba-463e-8148-044e753aea4b',\n",
       "   'content-type': 'application/x-amz-json-1.1',\n",
       "   'content-length': '94',\n",
       "   'date': 'Tue, 22 Apr 2025 20:42:09 GMT'},\n",
       "  'RetryAttempts': 0}}"
      ]
     },
     "execution_count": 113,
     "metadata": {},
     "output_type": "execute_result"
    }
   ],
   "source": [
    "# CREATE PIPELINE\n",
    "pipeline = Pipeline(\n",
    "    name=pipeline_name,\n",
    "    parameters=[],\n",
    "    steps=[step_spectro, step_manifest, step_train, step_package],\n",
    "    sagemaker_session=session\n",
    ")\n",
    "pipeline.upsert(role_arn=sagemaker_role)"
   ]
  },
  {
   "cell_type": "code",
   "execution_count": 114,
   "id": "53d4c2cb-7b4a-4c02-b004-c761f5f656a8",
   "metadata": {},
   "outputs": [
    {
     "data": {
      "text/plain": [
       "_PipelineExecution(arn='arn:aws:sagemaker:us-east-1:084375543672:pipeline/cs401FinalBirdclefPipeline/execution/k1dgzkuh5uk4', sagemaker_session=<sagemaker.session.Session object at 0x7f783184a5d0>)"
      ]
     },
     "execution_count": 114,
     "metadata": {},
     "output_type": "execute_result"
    }
   ],
   "source": [
    "pipeline.start()"
   ]
  },
  {
   "cell_type": "code",
   "execution_count": null,
   "id": "0d7bb05a-be03-4c14-be95-d5c48fe6c291",
   "metadata": {},
   "outputs": [],
   "source": []
  }
 ],
 "metadata": {
  "kernelspec": {
   "display_name": "Python 3 (ipykernel)",
   "language": "python",
   "name": "python3"
  },
  "language_info": {
   "codemirror_mode": {
    "name": "ipython",
    "version": 3
   },
   "file_extension": ".py",
   "mimetype": "text/x-python",
   "name": "python",
   "nbconvert_exporter": "python",
   "pygments_lexer": "ipython3",
   "version": "3.12.9"
  }
 },
 "nbformat": 4,
 "nbformat_minor": 5
}
